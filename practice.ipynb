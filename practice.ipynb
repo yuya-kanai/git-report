{
 "cells": [
  {
   "cell_type": "code",
   "execution_count": null,
   "metadata": {},
   "outputs": [],
   "source": []
  },
  {
   "cell_type": "code",
   "execution_count": 20,
   "metadata": {},
   "outputs": [
    {
     "name": "stdout",
     "output_type": "stream",
     "text": [
      "commit 415f7ef877b2eb0749f87a55911e337f0140c266\n",
      "Author: yuya-kanai <yuya-kanai@gmotech.jp>\n",
      "Date:   Fri Apr 19 08:35:16 2019 +0900\n",
      "\n",
      "    Get response from shell command\n",
      "\n"
     ]
    }
   ],
   "source": [
    "from subprocess import check_output\n",
    "from pprint import pprint\n",
    "print(check_output([\"git\", \"log\", '--since=\"6am\"']).decode(\"utf-8\") )"
   ]
  },
  {
   "cell_type": "code",
   "execution_count": 38,
   "metadata": {},
   "outputs": [
    {
     "name": "stdout",
     "output_type": "stream",
     "text": [
      "https://github.com/yuya-kanai/git-report\n",
      "\n",
      "https://github.com/yuya-kanai/git-report\n",
      "\n",
      "https://github.com/yuya-kanai/git-report\n",
      "\n",
      "https://github.com/yuya-kanai/git-report\n",
      "\n",
      "https://github.com/yuya-kanai/git-report\n",
      "\n",
      "https://github.com/yuya-kanai/git-report\n",
      "\n"
     ]
    }
   ],
   "source": [
    "from subprocess import check_output\n",
    "from pprint import pprint\n",
    "import re\n",
    "todaysLog=check_output([\"git\", \"log\", '--since=\"6am\"']).decode(\"utf-8\") \n",
    "gitURL=check_output([\"git\", \"config\", \"--get\", 'remote.origin.url']).decode(\"utf-8\") \n",
    "logArray=todaysLog.split('\\n')\n",
    "for line in logArray:\n",
    "    commit = re.match('commit [0-9a-fA-F]{5,}$', line)\n",
    "    if commit:\n",
    "        commitHash=re.search('[0-9a-fA-F]{5,}$', line).group(0)\n",
    "        print(gitURL+'/commit/')"
   ]
  },
  {
   "cell_type": "code",
   "execution_count": null,
   "metadata": {},
   "outputs": [],
   "source": []
  },
  {
   "cell_type": "code",
   "execution_count": null,
   "metadata": {},
   "outputs": [],
   "source": []
  }
 ],
 "metadata": {
  "kernelspec": {
   "display_name": "Python 3",
   "language": "python",
   "name": "python3"
  },
  "language_info": {
   "codemirror_mode": {
    "name": "ipython",
    "version": 3
   },
   "file_extension": ".py",
   "mimetype": "text/x-python",
   "name": "python",
   "nbconvert_exporter": "python",
   "pygments_lexer": "ipython3",
   "version": "3.7.0"
  }
 },
 "nbformat": 4,
 "nbformat_minor": 2
}
