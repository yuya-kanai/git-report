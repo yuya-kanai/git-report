{
 "cells": [
  {
   "cell_type": "code",
   "execution_count": null,
   "metadata": {},
   "outputs": [],
   "source": []
  },
  {
   "cell_type": "code",
   "execution_count": 20,
   "metadata": {},
   "outputs": [
    {
     "name": "stdout",
     "output_type": "stream",
     "text": [
      "commit 415f7ef877b2eb0749f87a55911e337f0140c266\n",
      "Author: yuya-kanai <yuya-kanai@gmotech.jp>\n",
      "Date:   Fri Apr 19 08:35:16 2019 +0900\n",
      "\n",
      "    Get response from shell command\n",
      "\n"
     ]
    }
   ],
   "source": []
  },
  {
   "cell_type": "code",
   "execution_count": null,
   "metadata": {},
   "outputs": [],
   "source": []
  },
  {
   "cell_type": "code",
   "execution_count": 110,
   "metadata": {},
   "outputs": [],
   "source": [
    "from subprocess import check_output\n",
    "from pprint import pprint\n",
    "from urllib.parse import urljoin\n",
    "import re\n",
    "\n",
    "def isDefined(x):\n",
    "    if x is None:\n",
    "        return False\n",
    "    else:\n",
    "        return True\n",
    "\n",
    "def printCommit(commits):\n",
    "    commitsReport=''\n",
    "    for commit in commits:\n",
    "        commitsReport+='''\n",
    "#### %s  (<a href=\"%s\"><sup><sub>:clock1:</sub></sup><span>%s<span></a>)\n",
    "\n",
    "''' % (commit['message'], commit['url'], commit['date'])\n",
    "        \n",
    "    return \"\"\"## %s\n",
    "### - コミット\n",
    "%s\n",
    "### - 課題\n",
    "- [ ] 何をするか\n",
    "    \"\"\" % (commits[0]['repository'], commitsReport)\n",
    "    \n",
    "def createReport():\n",
    "\n",
    "    todaysLog=check_output([\"git\", \"log\", '--since=\"6am\"']).decode(\"utf-8\") \n",
    "    gitURL=check_output([\"git\", \"config\", \"--get\", 'remote.origin.url']).decode(\"utf-8\").strip()\n",
    "    isSsh = re.match('git@', gitURL)\n",
    "\n",
    "    if isSsh:\n",
    "        userAndRepository = re.search(':.*.git', gitURL).group(0)[1:-4]+'/'\n",
    "        gitURL=urljoin('http://github.com/',userAndRepository)\n",
    "        repositoryName = userAndRepository.split('/')[1]\n",
    "    print('# 日報')\n",
    "#     print('## '+repositoryName)\n",
    "#     print(gitURL)\n",
    "#     print('### - コミット')\n",
    "    logArray=todaysLog.split('\\n')\n",
    "    commits = []\n",
    "    for line in reversed(logArray):\n",
    "\n",
    "        isCommitHash = re.match('commit [0-9a-fA-F]{5,}$', line)\n",
    "        isCommitMessage = re.match('    \\w', line)\n",
    "        isCommitDate = re.match('Date:', line)\n",
    "\n",
    "        if isCommitHash:\n",
    "            commitHash=re.search('[0-9a-fA-F]{5,}$', line).group(0)\n",
    "            gitCommitURL = urljoin(urljoin(gitURL,'commit/'), commitHash)\n",
    "            commit['url'] = gitCommitURL\n",
    "            if isDefined(commit):\n",
    "                commits.append(commit) \n",
    "#             print( gitCommitURL+'  ')\n",
    "\n",
    "        if isCommitDate:\n",
    "            commitDate=line[8:-11]\n",
    "            commit['date'] = commitDate\n",
    "#             print(commitDate+'  ')\n",
    "\n",
    "        if isCommitMessage:\n",
    "            try: \n",
    "                commit\n",
    "            except NameError: \n",
    "                commit = None\n",
    "            \n",
    "\n",
    "            commit = {'repository':repositoryName}\n",
    "            \n",
    "            commitMessage=line[4:]\n",
    "            commit['message'] = commitMessage\n",
    "\n",
    "#             print('\\n#### '+commitMessage+'  ')\n",
    "            \n",
    "#     print('''\\n### - 課題\n",
    "# - [ ] 何をするか\n",
    "\n",
    "# ## その他\n",
    "# 頑張ります。\n",
    "# ''')\n",
    "    print(printCommit(commits))\n"
   ]
  },
  {
   "cell_type": "code",
   "execution_count": 111,
   "metadata": {},
   "outputs": [
    {
     "name": "stdout",
     "output_type": "stream",
     "text": [
      "# 日報\n",
      "## xpacy\n",
      "### - コミット\n",
      "\n",
      "#### Remove comments  (<a href=\"http://github.com/yuya-kanai/xpacy/commit/9eba42c9a97371080a30401420c5309637476765\"><sup><sub>:clock1:</sub></sup><span>Tue May 7 10:52:47<span></a>)\n",
      "\n",
      "\n",
      "### - 課題\n",
      "- [ ] 何をするか\n",
      "    \n"
     ]
    }
   ],
   "source": [
    "createReport()"
   ]
  },
  {
   "cell_type": "raw",
   "metadata": {},
   "source": []
  },
  {
   "cell_type": "code",
   "execution_count": 90,
   "metadata": {},
   "outputs": [
    {
     "name": "stdout",
     "output_type": "stream",
     "text": [
      "# 日報\n",
      "## xpacy\n",
      "### - コミット\n",
      "\n",
      "#### <a href=\"http://github.com/yuya-kanai/xpacy/commit/9eba42c9a97371080a30401420c5309637476765\">Remove comments</a>\n",
      "<details>\n",
      "  <summary><sup><sub>:clock1:</sub></sup></summary>\n",
      "  <ul>\n",
      "    <li>Tue May 7 10:52:47 </li>\n",
      "  </ul>\n",
      "</details>\n",
      "\n",
      "\n",
      "### - 課題\n",
      "- [ ] 何をするか\n",
      "    \n"
     ]
    }
   ],
   "source": [
    "import os\n",
    "from subprocess import call\n",
    "repo_array = check_output([\"ls\", os.path.expanduser('~/git/') ])\n",
    "projectPath = os.path.join(os.path.expanduser('~/git/'),'xpacy')\n",
    "os.chdir(projectPath)\n",
    "createReport()"
   ]
  },
  {
   "cell_type": "code",
   "execution_count": 18,
   "metadata": {},
   "outputs": [
    {
     "name": "stdout",
     "output_type": "stream",
     "text": [
      "/Users/yuya-kanai/git/git-report\n"
     ]
    }
   ],
   "source": [
    "wd = os.getcwd()\n",
    "print(wd)"
   ]
  },
  {
   "cell_type": "code",
   "execution_count": null,
   "metadata": {},
   "outputs": [],
   "source": []
  }
 ],
 "metadata": {
  "kernelspec": {
   "display_name": "Python 3",
   "language": "python",
   "name": "python3"
  },
  "language_info": {
   "codemirror_mode": {
    "name": "ipython",
    "version": 3
   },
   "file_extension": ".py",
   "mimetype": "text/x-python",
   "name": "python",
   "nbconvert_exporter": "python",
   "pygments_lexer": "ipython3",
   "version": "3.7.0"
  }
 },
 "nbformat": 4,
 "nbformat_minor": 2
}
