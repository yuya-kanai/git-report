{
 "cells": [
  {
   "cell_type": "code",
   "execution_count": null,
   "metadata": {},
   "outputs": [],
   "source": []
  },
  {
   "cell_type": "code",
   "execution_count": 20,
   "metadata": {},
   "outputs": [
    {
     "name": "stdout",
     "output_type": "stream",
     "text": [
      "commit 415f7ef877b2eb0749f87a55911e337f0140c266\n",
      "Author: yuya-kanai <yuya-kanai@gmotech.jp>\n",
      "Date:   Fri Apr 19 08:35:16 2019 +0900\n",
      "\n",
      "    Get response from shell command\n",
      "\n"
     ]
    }
   ],
   "source": [
    "from subprocess import check_output\n",
    "from pprint import pprint\n",
    "print(check_output([\"git\", \"log\", '--since=\"6am\"']).decode(\"utf-8\") )"
   ]
  },
  {
   "cell_type": "code",
   "execution_count": null,
   "metadata": {},
   "outputs": [],
   "source": []
  },
  {
   "cell_type": "code",
   "execution_count": 83,
   "metadata": {},
   "outputs": [
    {
     "name": "stdout",
     "output_type": "stream",
     "text": [
      "git-report\n",
      "http://github.com/yuya-kanai/git-report/\n",
      " Get response from shell command\n",
      "URL: http://github.com/yuya-kanai/git-report/commit/415f7ef877b2eb0749f87a55911e337f0140c266\n",
      " Rename main practice file\n",
      "URL: http://github.com/yuya-kanai/git-report/commit/649effde6a66314fe9d810049edda75cc9fd3145\n"
     ]
    }
   ],
   "source": [
    "from subprocess import check_output\n",
    "from pprint import pprint\n",
    "from urllib.parse import urljoin\n",
    "import re\n",
    "todaysLog=check_output([\"git\", \"log\", '--since=\"6am\"']).decode(\"utf-8\") \n",
    "gitURL=check_output([\"git\", \"config\", \"--get\", 'remote.origin.url']).decode(\"utf-8\").strip()\n",
    "isSsh = re.match('git@', gitURL)\n",
    "\n",
    "if isSsh:\n",
    "    userAndRepository = re.search(':.*.git', gitURL).group(0)[1:-4]+'/'\n",
    "    gitURL=urljoin('http://github.com/',userAndRepository)\n",
    "    repositoryName = userAndRepository.split('/')[1]\n",
    "print(repositoryName)\n",
    "print(gitURL)\n",
    "logArray=todaysLog.split('\\n')\n",
    "for line in reversed(logArray):\n",
    "    isCommitHash = re.match('commit [0-9a-fA-F]{5,}$', line)\n",
    "    isCommitMessage = re.match('    .*', line)\n",
    "    if isCommitHash:\n",
    "        commitHash=re.search('[0-9a-fA-F]{5,}$', line).group(0)\n",
    "        gitCommitURL = urljoin(urljoin(gitURL,'commit/'), commitHash)\n",
    "        print('URL: ' + gitCommitURL)\n",
    "    if isCommitMessage:\n",
    "        commitMessage=line[3:]\n",
    "        print(commitMessage)"
   ]
  },
  {
   "cell_type": "code",
   "execution_count": null,
   "metadata": {},
   "outputs": [],
   "source": []
  },
  {
   "cell_type": "code",
   "execution_count": null,
   "metadata": {},
   "outputs": [],
   "source": []
  },
  {
   "cell_type": "code",
   "execution_count": null,
   "metadata": {},
   "outputs": [],
   "source": []
  }
 ],
 "metadata": {
  "kernelspec": {
   "display_name": "Python 3",
   "language": "python",
   "name": "python3"
  },
  "language_info": {
   "codemirror_mode": {
    "name": "ipython",
    "version": 3
   },
   "file_extension": ".py",
   "mimetype": "text/x-python",
   "name": "python",
   "nbconvert_exporter": "python",
   "pygments_lexer": "ipython3",
   "version": "3.7.0"
  }
 },
 "nbformat": 4,
 "nbformat_minor": 2
}
